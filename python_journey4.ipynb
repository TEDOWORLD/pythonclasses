{
  "nbformat": 4,
  "nbformat_minor": 0,
  "metadata": {
    "colab": {
      "provenance": [],
      "authorship_tag": "ABX9TyM5MHhy698Go0cg+wy6G16g",
      "include_colab_link": true
    },
    "kernelspec": {
      "name": "python3",
      "display_name": "Python 3"
    },
    "language_info": {
      "name": "python"
    }
  },
  "cells": [
    {
      "cell_type": "markdown",
      "metadata": {
        "id": "view-in-github",
        "colab_type": "text"
      },
      "source": [
        "<a href=\"https://colab.research.google.com/github/TEDOWORLD/pythonclasses/blob/master/python_journey4.ipynb\" target=\"_parent\"><img src=\"https://colab.research.google.com/assets/colab-badge.svg\" alt=\"Open In Colab\"/></a>"
      ]
    },
    {
      "cell_type": "code",
      "execution_count": 1,
      "metadata": {
        "colab": {
          "base_uri": "https://localhost:8080/"
        },
        "id": "qtGE9lVvXz5k",
        "outputId": "52c98112-8445-4c13-de4c-3ac98a041ae9"
      },
      "outputs": [
        {
          "output_type": "stream",
          "name": "stdout",
          "text": [
            " Enter a number decimal places: 30.4546\n",
            "60.9092\n",
            "60.91\n"
          ]
        }
      ],
      "source": [
        "# Ask the user to enter a\n",
        "# number with lots of\n",
        "# decimal places. Multiply\n",
        "# this number by two and\n",
        "# display the answer.\n",
        "\n",
        "number = float(input(\" Enter a number decimal places: \"))\n",
        "results = number*2\n",
        "print(results)\n"
      ]
    },
    {
      "cell_type": "code",
      "source": [
        "# Update program before so that it will display the answer to\n",
        "# two decimal places.\n",
        "\n",
        "# Ask the user to enter a\n",
        "# number with lots of\n",
        "# decimal places. Multiply\n",
        "# this number by two and\n",
        "# display the answer.\n",
        "\n",
        "number = float(input(\" Enter a number decimal places: \"))\n",
        "results = number*2\n",
        "print(results)\n",
        "print(round(results,2))"
      ],
      "metadata": {
        "id": "_52FEmYqejR2"
      },
      "execution_count": null,
      "outputs": []
    },
    {
      "cell_type": "code",
      "source": [
        "# Ask the user to enter an integer that is over 500. Work\n",
        "# out the square root of that number and display it to two\n",
        "#  decimal places.\n",
        "\n",
        "import math\n",
        "number = float(input(\" Enter a number that is over 500: \"))\n",
        "s_root = math.sqrt(number)\n",
        "print(round(s_root))"
      ],
      "metadata": {
        "colab": {
          "base_uri": "https://localhost:8080/"
        },
        "id": "6L9oB2M6Xsez",
        "outputId": "216f5089-7aab-44e7-d7a4-2e445b67e9af"
      },
      "execution_count": 2,
      "outputs": [
        {
          "output_type": "stream",
          "name": "stdout",
          "text": [
            " Enter a number that is over 500: 550\n",
            "23\n"
          ]
        }
      ]
    }
  ]
}