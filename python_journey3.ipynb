{
  "nbformat": 4,
  "nbformat_minor": 0,
  "metadata": {
    "colab": {
      "provenance": [],
      "authorship_tag": "ABX9TyOMwngLHtKC1IzwZQh7JCYp",
      "include_colab_link": true
    },
    "kernelspec": {
      "name": "python3",
      "display_name": "Python 3"
    },
    "language_info": {
      "name": "python"
    }
  },
  "cells": [
    {
      "cell_type": "markdown",
      "metadata": {
        "id": "view-in-github",
        "colab_type": "text"
      },
      "source": [
        "<a href=\"https://colab.research.google.com/github/TEDOWORLD/pythonclasses/blob/master/python_journey3.ipynb\" target=\"_parent\"><img src=\"https://colab.research.google.com/assets/colab-badge.svg\" alt=\"Open In Colab\"/></a>"
      ]
    },
    {
      "cell_type": "code",
      "execution_count": 1,
      "metadata": {
        "colab": {
          "base_uri": "https://localhost:8080/"
        },
        "id": "oLcvG3OdhhTi",
        "outputId": "54fef428-da56-47d5-9f26-698bc366bf45"
      },
      "outputs": [
        {
          "output_type": "stream",
          "name": "stdout",
          "text": [
            "Enter your first name: Teddy\n",
            "5\n"
          ]
        }
      ],
      "source": [
        "# Ask the user to enter\n",
        "# their first name and\n",
        "# then display the\n",
        "# length of their name.\n",
        "\n",
        "f_name = input(\"Enter your first name: \")\n",
        "\n",
        "print(len(f_name))"
      ]
    },
    {
      "cell_type": "code",
      "source": [
        "# Ask the user to enter their first name and then ask them to\n",
        "# enter their surname. Join them together with a space between\n",
        "# and display the name and the length of whole name.\n",
        "\n",
        "f_name = input(\"Enter your first name: \").lower()\n",
        "s_name = input(\"Enter your your surname name: \").lower()\n",
        "\n",
        "full_name = f_name+\" \"+s_name\n",
        "lenght = len(full_name)\n",
        "\n",
        "print(full_name)\n",
        "print(lenght)"
      ],
      "metadata": {
        "colab": {
          "base_uri": "https://localhost:8080/"
        },
        "id": "4Xv7WZF9iPDL",
        "outputId": "c8d0099a-4886-4a89-ab44-91fd264189bd"
      },
      "execution_count": 11,
      "outputs": [
        {
          "output_type": "stream",
          "name": "stdout",
          "text": [
            "Enter your first name: Teddy\n",
            "Enter your your surname name: opoku\n",
            "teddy opoku\n",
            "11\n"
          ]
        }
      ]
    },
    {
      "cell_type": "code",
      "source": [
        "# Ask the user to enter their first name and surname in lower\n",
        "# case. Change the case to title case and join them together.\n",
        "# Display the finished result.\n",
        "\n",
        "f_name = input(\"Enter your first name in lower case: \")\n",
        "s_name = input(\"Enter your your surname name in lower: \")\n",
        "f_name = f_name.title()\n",
        "s_name = s_name.title()\n",
        "full_name = f_name+\" \"+s_name\n",
        "print(full_name)\n"
      ],
      "metadata": {
        "colab": {
          "base_uri": "https://localhost:8080/"
        },
        "id": "iw_Au-RhuSGn",
        "outputId": "04d31e1e-0c32-4a61-d108-e1f7b63d733e"
      },
      "execution_count": 12,
      "outputs": [
        {
          "output_type": "stream",
          "name": "stdout",
          "text": [
            "Enter your first name in lower case: teddy\n",
            "Enter your your surname name in lower: opoku\n",
            "Teddy Opoku\n"
          ]
        }
      ]
    },
    {
      "cell_type": "code",
      "source": [
        "# Ask the user to enter their first name. If the length\n",
        "# of their first name is under five characters, ask\n",
        "# them to enter their surname and join them\n",
        "# together (without a space) and display the name\n",
        "# in upper case. If the length of the first name is five\n",
        "# or more characters, display their first name in\n",
        "# lower case.\n",
        "\n",
        "f_name = input(\"Enter your first name: \")\n",
        "if len(f_name) < 5:\n",
        "  s_name = input(\"Enter your your surname name: \")\n",
        "\n",
        "  full_name = (f_name + s_name).upper()\n",
        "\n",
        "  print(full_name)\n",
        "\n",
        "else: \n",
        "  print((f_name).lower())\n",
        "\n",
        "\n",
        "\n"
      ],
      "metadata": {
        "colab": {
          "base_uri": "https://localhost:8080/"
        },
        "id": "TUDQMLG4GDgp",
        "outputId": "0a99853b-7263-45da-c911-ad59d720527b"
      },
      "execution_count": 19,
      "outputs": [
        {
          "output_type": "stream",
          "name": "stdout",
          "text": [
            "Enter your first name: ted\n",
            "Enter your your surname name: opok\n",
            "TEDOPOK\n"
          ]
        }
      ]
    },
    {
      "cell_type": "code",
      "source": [],
      "metadata": {
        "id": "4bimpMtoZR3L"
      },
      "execution_count": null,
      "outputs": []
    }
  ]
}