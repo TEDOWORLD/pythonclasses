{
  "nbformat": 4,
  "nbformat_minor": 0,
  "metadata": {
    "colab": {
      "provenance": [],
      "authorship_tag": "ABX9TyPBV7OVh1cezEzyGC5jDpuB",
      "include_colab_link": true
    },
    "kernelspec": {
      "name": "python3",
      "display_name": "Python 3"
    },
    "language_info": {
      "name": "python"
    }
  },
  "cells": [
    {
      "cell_type": "markdown",
      "metadata": {
        "id": "view-in-github",
        "colab_type": "text"
      },
      "source": [
        "<a href=\"https://colab.research.google.com/github/TEDOWORLD/pythonclasses/blob/master/python_journey2.ipynb\" target=\"_parent\"><img src=\"https://colab.research.google.com/assets/colab-badge.svg\" alt=\"Open In Colab\"/></a>"
      ]
    },
    {
      "cell_type": "code",
      "execution_count": 2,
      "metadata": {
        "colab": {
          "base_uri": "https://localhost:8080/"
        },
        "id": "9l2LRVULje6X",
        "outputId": "bc173616-b887-4544-a12d-235185302972"
      },
      "outputs": [
        {
          "output_type": "stream",
          "name": "stdout",
          "text": [
            " Enter a number: 20\n",
            "Enter another number: 3\n",
            "20 3\n"
          ]
        }
      ],
      "source": [
        "# Ask for two numbers. If\n",
        "# the first one is larger\n",
        "# than the second, display\n",
        "# the second number first\n",
        "# and then the first\n",
        "# number, otherwise show\n",
        "# the first number first and\n",
        "# then the second.\n",
        "\n",
        "num1 = int(input(\" Enter a number: \"))\n",
        "num2 = int(input(\"Enter another number: \"))\n",
        "\n",
        "if num1>num2 :\n",
        "  print(num2, num1)\n",
        "\n",
        "else:\n",
        "  print(num1,num2)  "
      ]
    },
    {
      "cell_type": "code",
      "source": [
        "# Ask the user to enter a\n",
        "# number that is under\n",
        "# 20. If they enter a\n",
        "# number that is 20 or\n",
        "# more, display the\n",
        "# message “Too high”,\n",
        "# otherwise display\n",
        "# “Thank you”.\n",
        "\n",
        "num = int(input(\" Enter a number under 20: \"))\n",
        "\n",
        "if num >= 20:\n",
        "  print(\"Too high\")\n",
        "\n",
        "else:\n",
        "  print(\"Thank you\")\n",
        "\n",
        "\n"
      ],
      "metadata": {
        "colab": {
          "base_uri": "https://localhost:8080/"
        },
        "id": "NqRrwQJzlUbb",
        "outputId": "7cc08b42-d245-4d62-9d22-bf814834144c"
      },
      "execution_count": 8,
      "outputs": [
        {
          "output_type": "stream",
          "name": "stdout",
          "text": [
            " Enter a number under 20: 3\n",
            "Thank you\n"
          ]
        }
      ]
    },
    {
      "cell_type": "code",
      "source": [
        "# Ask the user to enter a\n",
        "# number between 10 and 20\n",
        "# (inclusive). If they enter a\n",
        "# number within this range,\n",
        "# display the message “Thank\n",
        "# you”, otherwise display the\n",
        "# message “Incorrect\n",
        "# answer”.\n",
        "\n",
        "num = int(input(\" Enter a number between 10 and 20: \"))\n",
        "\n",
        "if num >= 10 and num <= 20:\n",
        "  print(\"Thank you\")\n",
        "\n",
        "else: \n",
        "  print(\"Incorrect\")  "
      ],
      "metadata": {
        "colab": {
          "base_uri": "https://localhost:8080/"
        },
        "id": "pnbwuHQkngZF",
        "outputId": "f6d58108-ebf0-4e19-e908-af4f09ec6d42"
      },
      "execution_count": 13,
      "outputs": [
        {
          "output_type": "stream",
          "name": "stdout",
          "text": [
            " Enter a number between 10 and 20: 20\n",
            "Thank you\n"
          ]
        }
      ]
    },
    {
      "cell_type": "code",
      "source": [
        "from IPython.utils import colorable\n",
        "# Ask the user to enter their favourite colour. If they enter “red”, “RED” or\n",
        "# “Red” display the message “I like red too”, otherwise display the message\n",
        "# “I don’t like [colour], I prefer red”.\n",
        "\n",
        "color = (input(\" Enter your favorite color: \")).lower()\n",
        "\n",
        "if color == \"red\":\n",
        "  print(\" I like red too\")\n",
        "\n",
        "else:  \n",
        "  print(f\"I don't lie {color}, I prefer red\")\n",
        "\n"
      ],
      "metadata": {
        "colab": {
          "base_uri": "https://localhost:8080/"
        },
        "id": "H_c2vC1Jsxb0",
        "outputId": "5c8fea13-840a-463d-fb18-d4560aad729f"
      },
      "execution_count": 17,
      "outputs": [
        {
          "output_type": "stream",
          "name": "stdout",
          "text": [
            " Enter your favorite color: RED\n",
            " I like red too\n"
          ]
        }
      ]
    },
    {
      "cell_type": "code",
      "source": [
        "# Ask the user if it is raining and convert their answer to lower case\n",
        "# so it doesn’t matter what case they type it in. If they answer “yes”,\n",
        "# ask if it is windy. If they answer “yes” to this second question,\n",
        "# display the answer “It is too windy for an umbrella”, otherwise\n",
        "# display the message “Take an umbrella”. If they did not answer yes\n",
        "# to the first question, display the answer “Enjoy your day”.\n",
        "\n",
        "raining = (input(\" Is it raining?: \")).lower()\n",
        "\n",
        "if raining == \"yes\":\n",
        "  \n",
        "  windy= input(\"is it windy?: \").lower()\n",
        "  if windy == \"yes\":\n",
        "    print(\"It's too windy for an umbrella\")\n",
        "  else:\n",
        "    print(\"take an umbrella\")  \n",
        "\n",
        "else:\n",
        "   print(\"Enjoy your day\")   \n",
        "\n"
      ],
      "metadata": {
        "colab": {
          "base_uri": "https://localhost:8080/"
        },
        "id": "q71hrUb_vsUn",
        "outputId": "e47984d1-e887-463e-dbc0-5919dd70a6ab"
      },
      "execution_count": 33,
      "outputs": [
        {
          "output_type": "stream",
          "name": "stdout",
          "text": [
            " Is it raining?: yes\n",
            "is it windy?: no\n",
            "take an umbrella\n"
          ]
        }
      ]
    },
    {
      "cell_type": "code",
      "source": [
        "# Ask the user’s age. If they\n",
        "# are 18 or over, display the\n",
        "# message “You can vote”, if\n",
        "# they are aged 17, display the\n",
        "# message “You can learn to\n",
        "# drive”, if they are 16, display\n",
        "# the message “You can buy a\n",
        "# lottery ticket”, if they are\n",
        "# under 16, display the\n",
        "\n",
        "# message “You can go Trick-\n",
        "# or-Treating”.\n",
        "\n",
        "age = int(input(\" Enter your age?: \"))\n",
        "\n",
        "if age >= 18:\n",
        "  print(\"you can vote\")\n",
        "elif age ==17:\n",
        "  print(\"you can learn to drive\")\n",
        "elif age == 16:\n",
        "  print(\"You can buy a lottery tickect\")\n",
        "elif age <16:\n",
        "  print(\"You can go trick or treating\")\n",
        "\n",
        "\n"
      ],
      "metadata": {
        "colab": {
          "base_uri": "https://localhost:8080/"
        },
        "id": "XerdBuopGuwV",
        "outputId": "a23e1025-baac-4eb9-a691-f6308d601946"
      },
      "execution_count": 25,
      "outputs": [
        {
          "output_type": "stream",
          "name": "stdout",
          "text": [
            " Enter your age?: 6\n",
            "You can go trick or treating\n"
          ]
        }
      ]
    },
    {
      "cell_type": "code",
      "source": [
        "# Ask the user to enter a number. If it is under 10,\n",
        "# display the message “Too low”, if their number is\n",
        "# between 10 and 20, display “Correct”, otherwise\n",
        "# display “Too high”.\n",
        "\n",
        "num = int(input(\" Enter a number: \"))\n",
        "\n",
        "if num < 10:\n",
        "  print(\"too low\")\n",
        "elif num >=10 and num <=20:\n",
        "    print(\"correct\")\n",
        "else:\n",
        "  print(\"too high\")"
      ],
      "metadata": {
        "colab": {
          "base_uri": "https://localhost:8080/"
        },
        "id": "c8Me50zJI-EO",
        "outputId": "d79fac85-905a-4265-83e3-d5e06e06b24d"
      },
      "execution_count": 30,
      "outputs": [
        {
          "output_type": "stream",
          "name": "stdout",
          "text": [
            " Enter a number: 6\n",
            "too low\n"
          ]
        }
      ]
    },
    {
      "cell_type": "code",
      "source": [
        "# Ask the user to enter 1, 2 or 3. If they enter a 1, display\n",
        "# the message “Thank you”, if they enter a 2, display\n",
        "# “Well done”, if they enter a 3, display “Correct”. If\n",
        "# they enter anything else, display “Error message”.\n",
        "\n",
        "num = int(input(\" Enter 1,2 or 3: \"))\n",
        "\n",
        "if num ==1:\n",
        "  print(\"Thank you\")\n",
        "  if num == 2:\n",
        "    print(\"well done\")\n",
        "    if num ==3:\n",
        "      print(\"correct\")\n",
        "\n",
        "else:\n",
        "  print(\"error message\")"
      ],
      "metadata": {
        "colab": {
          "base_uri": "https://localhost:8080/"
        },
        "id": "voncFoTgKZkx",
        "outputId": "45dc3363-c027-4078-e1cb-9318de25f718"
      },
      "execution_count": 31,
      "outputs": [
        {
          "output_type": "stream",
          "name": "stdout",
          "text": [
            " Enter 1,2 or 3: 6\n",
            "error message\n"
          ]
        }
      ]
    }
  ]
}