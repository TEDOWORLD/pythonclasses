{
  "nbformat": 4,
  "nbformat_minor": 0,
  "metadata": {
    "colab": {
      "provenance": [],
      "authorship_tag": "ABX9TyPc5J8pcFfVrEiEO/TOgszW",
      "include_colab_link": true
    },
    "kernelspec": {
      "name": "python3",
      "display_name": "Python 3"
    },
    "language_info": {
      "name": "python"
    }
  },
  "cells": [
    {
      "cell_type": "markdown",
      "metadata": {
        "id": "view-in-github",
        "colab_type": "text"
      },
      "source": [
        "<a href=\"https://colab.research.google.com/github/TEDOWORLD/pythonclasses/blob/master/python_journey5.ipynb\" target=\"_parent\"><img src=\"https://colab.research.google.com/assets/colab-badge.svg\" alt=\"Open In Colab\"/></a>"
      ]
    },
    {
      "cell_type": "code",
      "execution_count": 4,
      "metadata": {
        "colab": {
          "base_uri": "https://localhost:8080/"
        },
        "id": "MXlNq8PJayJj",
        "outputId": "6da29b16-dd52-4df6-be28-d5e5aa85b75b"
      },
      "outputs": [
        {
          "output_type": "stream",
          "name": "stdout",
          "text": [
            "Enter your name: Teddy\n",
            "Teddy\n",
            "Teddy\n",
            "Teddy\n"
          ]
        }
      ],
      "source": [
        "# Ask the user to enter\n",
        "# their name and then\n",
        "# display their name\n",
        "# three times.\n",
        "\n",
        "name = input(\"Enter your name: \")\n",
        "for i in range (0,3):\n",
        "  print(name)\n"
      ]
    },
    {
      "cell_type": "code",
      "source": [
        "# Alter program above so that it will ask the user to enter their\n",
        "# name and a number and then display their name that\n",
        "# number of times.\n",
        "\n",
        "name = input(\"Enter your name: \")\n",
        "for i in range (0,5):\n",
        "  print(i, name)"
      ],
      "metadata": {
        "colab": {
          "base_uri": "https://localhost:8080/"
        },
        "id": "gHsS6PzIb9Gs",
        "outputId": "23cab6fb-8040-4a3a-bd13-ad9f49372dc9"
      },
      "execution_count": 6,
      "outputs": [
        {
          "output_type": "stream",
          "name": "stdout",
          "text": [
            "Enter your name: Teddy\n",
            "0 Teddy\n",
            "1 Teddy\n",
            "2 Teddy\n",
            "3 Teddy\n",
            "4 Teddy\n"
          ]
        }
      ]
    },
    {
      "cell_type": "code",
      "source": [
        "# Ask the user to enter their name and display each letter in\n",
        "# their name on a separate line.\n",
        "\n",
        "name = input(\"Enter your name: \")\n",
        "for i in name: \n",
        "  print(i)"
      ],
      "metadata": {
        "colab": {
          "base_uri": "https://localhost:8080/"
        },
        "id": "T8SJlk5dcTUJ",
        "outputId": "f216ec13-29b7-439c-a793-ac521680f71e"
      },
      "execution_count": 9,
      "outputs": [
        {
          "output_type": "stream",
          "name": "stdout",
          "text": [
            "Enter your name: Teddy\n",
            "T\n",
            "e\n",
            "d\n",
            "d\n",
            "y\n"
          ]
        }
      ]
    },
    {
      "cell_type": "code",
      "source": [
        "# Change program\n",
        "# above to also ask for a\n",
        "# number. Display\n",
        "# their name (one\n",
        "# letter at a time on\n",
        "# each line) and\n",
        "# repeat this for the\n",
        "# number of times\n",
        "# they entered.\n",
        "number= int(input(\"Enter a number: \"))\n",
        "name = input(\"Enter your name: \")\n",
        "\n",
        "\n",
        "for x in name:\n",
        "  for i in range(0,number):\n",
        "    print(x, i)\n"
      ],
      "metadata": {
        "colab": {
          "base_uri": "https://localhost:8080/"
        },
        "id": "FSwnOIw2c5Kb",
        "outputId": "edadac9f-2941-4349-84b8-bf39990428fc"
      },
      "execution_count": 2,
      "outputs": [
        {
          "output_type": "stream",
          "name": "stdout",
          "text": [
            "Enter a number: 5\n",
            "Enter your name: Teddy\n",
            "T 0\n",
            "T 1\n",
            "T 2\n",
            "T 3\n",
            "T 4\n",
            "e 0\n",
            "e 1\n",
            "e 2\n",
            "e 3\n",
            "e 4\n",
            "d 0\n",
            "d 1\n",
            "d 2\n",
            "d 3\n",
            "d 4\n",
            "d 0\n",
            "d 1\n",
            "d 2\n",
            "d 3\n",
            "d 4\n",
            "y 0\n",
            "y 1\n",
            "y 2\n",
            "y 3\n",
            "y 4\n"
          ]
        }
      ]
    },
    {
      "cell_type": "code",
      "source": [
        "# Ask the user to enter a number between 1\n",
        "# and 12 and then display the times table for\n",
        "# that number.# they entered in the output.\n",
        "\n",
        "number= int(input(\"Enter a number between 1 and 12: \"))\n",
        "\n",
        "for i in range(0,13):\n",
        "  times_results = i*number\n",
        "  print(f\"{number}x {i} ={times_results} \")\n",
        "\n",
        "\n",
        "  \n"
      ],
      "metadata": {
        "colab": {
          "base_uri": "https://localhost:8080/"
        },
        "id": "RVrGFqA2-iEp",
        "outputId": "30814ed2-de90-4493-e282-6926c46581cd"
      },
      "execution_count": 3,
      "outputs": [
        {
          "output_type": "stream",
          "name": "stdout",
          "text": [
            "Enter a number between 1 and 12: 5\n",
            "5x 0 =0 \n",
            "5x 1 =5 \n",
            "5x 2 =10 \n",
            "5x 3 =15 \n",
            "5x 4 =20 \n",
            "5x 5 =25 \n",
            "5x 6 =30 \n",
            "5x 7 =35 \n",
            "5x 8 =40 \n",
            "5x 9 =45 \n",
            "5x 10 =50 \n",
            "5x 11 =55 \n",
            "5x 12 =60 \n"
          ]
        }
      ]
    },
    {
      "cell_type": "code",
      "source": [
        "# Ask for a number below 50 and then count down from\n",
        "# 50 to that number, making sure you show the number\n",
        "\n",
        "number= int(input(\"Enter a number below 50: \"))\n",
        "for i in range(50,number-1,-1):\n",
        "    print(i)\n",
        "\n",
        "  \n",
        "    \n",
        "\n"
      ],
      "metadata": {
        "colab": {
          "base_uri": "https://localhost:8080/"
        },
        "id": "myT9ddo4BSCO",
        "outputId": "866e5321-5842-465f-f4d6-30797c95da0d"
      },
      "execution_count": 16,
      "outputs": [
        {
          "output_type": "stream",
          "name": "stdout",
          "text": [
            "Enter a number below 50: 40\n",
            "50\n",
            "49\n",
            "48\n",
            "47\n",
            "46\n",
            "45\n",
            "44\n",
            "43\n",
            "42\n",
            "41\n",
            "40\n"
          ]
        }
      ]
    },
    {
      "cell_type": "code",
      "source": [
        "# Ask the user to enter their\n",
        "# name and a number. If the\n",
        "# number is less than 10, then\n",
        "# display their name that\n",
        "# number of times; otherwise\n",
        "# display the message “Too\n",
        "# high” three times.\n",
        "\n",
        "name = (input(\"Enter your name: \"))\n",
        "num= int(input(\"Enter a number : \"))\n",
        "\n",
        "if num <10:\n",
        "  for i in range(0,num):\n",
        "    print(name)\n",
        "\n",
        "else:\n",
        "  for i in range(0,3):\n",
        "    print(\"Too high\")\n"
      ],
      "metadata": {
        "colab": {
          "base_uri": "https://localhost:8080/"
        },
        "id": "t_UcEyZtBYOP",
        "outputId": "1a8a047a-c406-451e-b302-ce863de8254a"
      },
      "execution_count": 24,
      "outputs": [
        {
          "output_type": "stream",
          "name": "stdout",
          "text": [
            "Enter your name: trddy\n",
            "Enter a number : 12\n",
            "Too high\n",
            "Too high\n",
            "Too high\n"
          ]
        }
      ]
    },
    {
      "cell_type": "code",
      "source": [
        "# Create a variable called\n",
        "# compnum and set the value\n",
        "# to 50. Ask the user to enter a\n",
        "# number. While their guess\n",
        "# is not the same as the\n",
        "# compnum value, tell them if\n",
        "# their guess is too low or too\n",
        "# high and ask them to have\n",
        "# another guess. If they enter\n",
        "# the same value as\n",
        "# compnum, display the\n",
        "# message “Well done, you\n",
        "# took [count] attempts”.\n",
        "\n",
        "\n",
        "campnum = 50\n",
        "num = int(input(\"Guess a number: \"))\n",
        "count = 1\n",
        "while num != campnum:\n",
        "  if num < campnum:\n",
        "    print(\"Guess is too low\")\n",
        "  else:\n",
        "    print(\"Guess is too high\")\n",
        "  count = count + 1\n",
        "  num = int(input(\"Guess another number: \"))\n",
        "print(f\" well done, you took {count} attempts\")\n",
        "  "
      ],
      "metadata": {
        "colab": {
          "base_uri": "https://localhost:8080/"
        },
        "id": "i5iEhG3Sk2OZ",
        "outputId": "bb925ec8-baa6-41b4-db69-ef9e43df521c"
      },
      "execution_count": 14,
      "outputs": [
        {
          "output_type": "stream",
          "name": "stdout",
          "text": [
            "Guess a number: 23\n",
            "Guess is too low\n",
            "Guess another number: 12\n",
            "Guess is too low\n",
            "Guess another number: 45\n",
            "Guess is too low\n",
            "Guess another number: 50\n",
            " well done, you took4 attempts\n"
          ]
        }
      ]
    },
    {
      "cell_type": "code",
      "source": [
        "# Ask the user to enter a number between\n",
        "# 10 and 20. If they enter a value under 10,\n",
        "# display the message “Too low” and ask\n",
        "# them to try again. If they enter a value\n",
        "# above 20, display the message “Too high”\n",
        "# and ask them to try again. Keep repeating\n",
        "# this until they enter a value that is\n",
        "# between 10 and 20 and then display the\n",
        "# message “Thank you”.\n",
        "\n",
        "num = int(input(\" Enter a number between 10 and 20: \"))\n",
        "while num < 10 or num > 20:\n",
        "  if num < 20:\n",
        "    print(\"Too low\")\n",
        "  else:\n",
        "    print(\"Too high\")\n",
        "\n",
        "  num = int(input(\" try agin \"))\n",
        "print(\"Thank you\")\n"
      ],
      "metadata": {
        "colab": {
          "base_uri": "https://localhost:8080/"
        },
        "id": "Wr7XBVMbww9b",
        "outputId": "31f6de0a-7a1e-426c-b1d7-5956de3623d7"
      },
      "execution_count": 5,
      "outputs": [
        {
          "output_type": "stream",
          "name": "stdout",
          "text": [
            " Enter a number between 10 and 20: 21\n",
            "Too high\n",
            " try agin 2\n",
            " Too low\n",
            " try agin 67\n",
            "Too high\n",
            " try agin 13\n",
            "Thank you\n"
          ]
        }
      ]
    }
  ]
}