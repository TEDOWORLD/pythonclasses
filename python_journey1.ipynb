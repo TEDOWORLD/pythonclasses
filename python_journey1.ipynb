{
  "nbformat": 4,
  "nbformat_minor": 0,
  "metadata": {
    "colab": {
      "provenance": [],
      "authorship_tag": "ABX9TyP7G5BS3A7c3H3pEF76fEC3",
      "include_colab_link": true
    },
    "kernelspec": {
      "name": "python3",
      "display_name": "Python 3"
    },
    "language_info": {
      "name": "python"
    }
  },
  "cells": [
    {
      "cell_type": "markdown",
      "metadata": {
        "id": "view-in-github",
        "colab_type": "text"
      },
      "source": [
        "<a href=\"https://colab.research.google.com/github/TEDOWORLD/pythonclasses/blob/master/python_journey1.ipynb\" target=\"_parent\"><img src=\"https://colab.research.google.com/assets/colab-badge.svg\" alt=\"Open In Colab\"/></a>"
      ]
    },
    {
      "cell_type": "code",
      "execution_count": 1,
      "metadata": {
        "id": "C98NzNne42Gu",
        "colab": {
          "base_uri": "https://localhost:8080/"
        },
        "outputId": "8efb2722-8f3f-42e8-a0c1-d2d77bb8b038"
      },
      "outputs": [
        {
          "output_type": "stream",
          "name": "stdout",
          "text": [
            "what is your first name: Teddy\n",
            "Hello, Teddy\n"
          ]
        }
      ],
      "source": [
        "# Ask for the user’s first name and\n",
        "# display the output message\n",
        "\n",
        "f_name = input( \"what is your first name: \")\n",
        "\n",
        "print(f\"Hello, {f_name}\")"
      ]
    },
    {
      "cell_type": "code",
      "source": [
        "# Ask for the user’s first name and then ask for\n",
        "# their surname and display the output message\n",
        "\n",
        "first_name = input( \"What is your first name: \")\n",
        "last_name = input(\"What is your surname: \")\n",
        "\n",
        "print(f\"Hello, {first_name} {last_name}\")"
      ],
      "metadata": {
        "colab": {
          "base_uri": "https://localhost:8080/"
        },
        "id": "jURCFHpl10ZJ",
        "outputId": "48bf5f22-d4a2-458d-ee28-99e8a715a8c5"
      },
      "execution_count": 3,
      "outputs": [
        {
          "output_type": "stream",
          "name": "stdout",
          "text": [
            "What is your first name: Teddy\n",
            "What is your surname: Opoku\n",
            "Hello, Teddy Opoku\n"
          ]
        }
      ]
    },
    {
      "cell_type": "code",
      "source": [
        "# Write code that will display the joke “What do you call a bear with no\n",
        "# teeth?” and on the next line display the answer “A gummy bear!” Try to\n",
        "# create it using only one line of code.\n",
        "\n",
        "print(\"What do you call a bear with no teeth?  n/Answer: A gummy bear\" )"
      ],
      "metadata": {
        "colab": {
          "base_uri": "https://localhost:8080/"
        },
        "id": "5RIpYaVa3Xda",
        "outputId": "5793fd24-a147-415e-b73f-57522d8e7df3"
      },
      "execution_count": 9,
      "outputs": [
        {
          "output_type": "stream",
          "name": "stdout",
          "text": [
            "What do you call a bear with no teeth?  n/Answer: A gummy bear\n"
          ]
        }
      ]
    },
    {
      "cell_type": "code",
      "source": [
        "# Ask the user to enter\n",
        "# two numbers. Add\n",
        "# them together and\n",
        "# display the answer as\n",
        "\n",
        "first_num = int(input(\"Enter a number: \"))\n",
        "second_num = int(input(\" Enter another number: \"))\n",
        "\n",
        "sum = first_num + second_num\n",
        "\n",
        "print(sum)"
      ],
      "metadata": {
        "colab": {
          "base_uri": "https://localhost:8080/"
        },
        "id": "fy5QbwIG6HyC",
        "outputId": "322aaceb-61b0-4db7-dab0-88e62d03e9f1"
      },
      "execution_count": 11,
      "outputs": [
        {
          "output_type": "stream",
          "name": "stdout",
          "text": [
            "Enter a number: 12\n",
            " Enter another number: 21\n",
            "33\n"
          ]
        }
      ]
    },
    {
      "cell_type": "code",
      "source": [
        "# Ask the user to enter three\n",
        "# numbers. Add together the first\n",
        "# two numbers and then multiply\n",
        "# this total by the third. Display the\n",
        "# answer as The answer is\n",
        "# [answer].\n",
        "\n",
        "first_num = int(input(\"Enter a number: \"))\n",
        "second_num = int(input(\" Enter another number: \"))\n",
        "third_num = int(input(\" Enther third number: \"))\n",
        "\n",
        "results = (first_num + second_num)*third_num\n",
        "\n",
        "print(results)\n"
      ],
      "metadata": {
        "colab": {
          "base_uri": "https://localhost:8080/"
        },
        "id": "hD6-hubP7wNy",
        "outputId": "3baf0ff7-3766-4c99-aad4-6539a628da8f"
      },
      "execution_count": 12,
      "outputs": [
        {
          "output_type": "stream",
          "name": "stdout",
          "text": [
            "Enter a number: 4\n",
            " Enter another number: 4\n",
            " Enther third number: 2\n",
            "16\n"
          ]
        }
      ]
    },
    {
      "cell_type": "code",
      "source": [
        "# Ask how many slices\n",
        "# of pizza the user\n",
        "# started with and ask\n",
        "# how many slices\n",
        "# they have eaten.\n",
        "# Work out how many\n",
        "# slices they have left\n",
        "# and display the\n",
        "\n",
        "# answer in a user-\n",
        "# friendly format.\n",
        "\n",
        "total_slices = float(input( \"How many slices of pizza did you start with: \"))\n",
        "total_eaten = float(input(\"How many have you eaten so far: \"))\n",
        "total_left = total_slices - total_eaten\n",
        "\n",
        "print(f\" You only have {total_left} of pizza slices left\")"
      ],
      "metadata": {
        "colab": {
          "base_uri": "https://localhost:8080/"
        },
        "id": "G2ZXbOnS9YvA",
        "outputId": "f3e3daef-4945-42cb-8c39-ac8d6ed4e3de"
      },
      "execution_count": 13,
      "outputs": [
        {
          "output_type": "stream",
          "name": "stdout",
          "text": [
            "How many slices of pizza did you start with: 16\n",
            "How many have you eaten so far: 3.5\n",
            " You only have 12.5 of pizza slices left\n"
          ]
        }
      ]
    },
    {
      "cell_type": "code",
      "source": [
        "# Ask the user for their name and their age. Add 1 to their age\n",
        "# and display the output [Name] next birthday you\n",
        "# will be [new age].\n",
        "\n",
        "full_name = input( \"Enter your  name: \")\n",
        "age = int(input(\"How old are you?: \"))\n",
        "\n",
        "new_age = age + 1 \n",
        "\n",
        "print(f\" Hello {full_name}, your next birthday will be {new_age} \")"
      ],
      "metadata": {
        "colab": {
          "base_uri": "https://localhost:8080/"
        },
        "id": "BS6uzGaE_675",
        "outputId": "87164e8e-5aea-4708-83a7-dea597ccbf6c"
      },
      "execution_count": 14,
      "outputs": [
        {
          "output_type": "stream",
          "name": "stdout",
          "text": [
            "Enter your  name: Teddy Opoku\n",
            "How old are you?: 35\n",
            " Hello Teddy Opoku, your next birthday will be 36 \n"
          ]
        }
      ]
    },
    {
      "cell_type": "code",
      "source": [
        "# Ask for the total price of the bill, then ask how\n",
        "# many diners there are. Divide the total bill by the\n",
        "# number of diners and show how much each\n",
        "# person must pay.\n",
        "total_bill = float(input( \"How much was the total bill: \"))\n",
        "total_diners = int(input( \"Enter number of diners: \"))\n",
        "results = total_bill/total_diners\n",
        "\n",
        "print(f\" Each person will pay {results}\")\n",
        "\n"
      ],
      "metadata": {
        "colab": {
          "base_uri": "https://localhost:8080/"
        },
        "id": "BgYJzaLICamr",
        "outputId": "db39a5db-e57b-4455-e6fd-85f284d0f226"
      },
      "execution_count": 18,
      "outputs": [
        {
          "output_type": "stream",
          "name": "stdout",
          "text": [
            "How much was the total bill: 500\n",
            "Enter number of diners: 3\n",
            " Each person will pay 166.66666666666666\n"
          ]
        }
      ]
    },
    {
      "cell_type": "code",
      "source": [
        "# Write a program\n",
        "# that will ask for a\n",
        "# number of days\n",
        "# and then will\n",
        "# show how many\n",
        "# hours, minutes\n",
        "# and seconds are\n",
        "# in that number of\n",
        "# days.\n",
        "\n",
        "days = int(input( \"Enter number of days: \"))\n",
        "\n",
        "hours = days*24\n",
        "\n",
        "minutes = hours*60\n",
        "\n",
        "seconds = minutes*60\n",
        "\n",
        "print(f\"Number of hours :{hours} number of minutes : {minutes} number seconds: {seconds}\")\n",
        "\n"
      ],
      "metadata": {
        "colab": {
          "base_uri": "https://localhost:8080/"
        },
        "id": "m9-DknzkHhEV",
        "outputId": "77cbbb94-907e-4c08-dccc-8b76624cd2ab"
      },
      "execution_count": 21,
      "outputs": [
        {
          "output_type": "stream",
          "name": "stdout",
          "text": [
            "Enter number of days: 6\n",
            "Number of hours :144 number of minutes : 8640 number seconds: 518400\n"
          ]
        }
      ]
    },
    {
      "cell_type": "code",
      "source": [
        "# There are 2,204 pounds in a kilogram. Ask the\n",
        "# user to enter a weight in kilograms and convert it\n",
        "# to pounds.\n",
        "\n",
        "weight = int(input( \"Enter weight in KG: \"))\n",
        "convertor= 2204*weight\n",
        "\n",
        "print(f\"weight in pounds is {convertor}\")"
      ],
      "metadata": {
        "colab": {
          "base_uri": "https://localhost:8080/"
        },
        "id": "NRpRcrE6LwoM",
        "outputId": "7f76bb81-972c-4e82-82b3-29d9b770c3fc"
      },
      "execution_count": 23,
      "outputs": [
        {
          "output_type": "stream",
          "name": "stdout",
          "text": [
            "Enter weight in KG: 56\n",
            "weight in pounds is 123424\n"
          ]
        }
      ]
    },
    {
      "cell_type": "code",
      "source": [
        "\n",
        "# Task the user to enter a number over 100 and then enter a number under\n",
        "# 10 and tell them how many times the smaller number goes into the larger\n",
        "# number in a user-friendly format.\n",
        "\n",
        "num1= int(input( \"Enter a number over 100: \"))\n",
        "\n",
        "num2= int(input( \"Enter number a before 10: \"))\n",
        "\n",
        "results = num1//num2\n",
        "\n",
        "print(results)\n",
        "\n"
      ],
      "metadata": {
        "colab": {
          "base_uri": "https://localhost:8080/"
        },
        "id": "oXU8RCyeT-ZN",
        "outputId": "55b81974-f9df-4c9e-f32b-da26abe9545d"
      },
      "execution_count": 26,
      "outputs": [
        {
          "output_type": "stream",
          "name": "stdout",
          "text": [
            "Enter a number over 100: 150\n",
            "Enter number a before 10: 5\n",
            "30\n"
          ]
        }
      ]
    }
  ]
}